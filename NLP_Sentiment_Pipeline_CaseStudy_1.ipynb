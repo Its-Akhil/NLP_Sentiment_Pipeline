{
  "nbformat": 4,
  "nbformat_minor": 0,
  "metadata": {
    "colab": {
      "provenance": [],
      "collapsed_sections": [
        "ijNYxra96iaR",
        "h6PaJ1Ri7lsb",
        "xXEaLPSv7klk",
        "KGqK65wM8N5R",
        "CZJav-v_8Tz4"
      ]
    },
    "kernelspec": {
      "name": "python3",
      "display_name": "Python 3"
    },
    "language_info": {
      "name": "python"
    }
  },
  "cells": [
    {
      "cell_type": "markdown",
      "source": [
        "#Sentiment classification mini-project:\n",
        "- Load product reviews data\n",
        "- Clean and normalize text\n",
        "- Vectorize using BoW, TF-IDF, and bi-grams\n",
        "- Train multiple classifiers per vectorization\n",
        "- Select and report the best model (macro F1)\n",
        "- Plot confusion matrix for the winner\n"
      ],
      "metadata": {
        "id": "XPoFk7dM6dMh"
      }
    },
    {
      "cell_type": "markdown",
      "source": [
        "##Installing Required Libraries"
      ],
      "metadata": {
        "id": "ijNYxra96iaR"
      }
    },
    {
      "cell_type": "code",
      "execution_count": 1,
      "metadata": {
        "colab": {
          "base_uri": "https://localhost:8080/",
          "height": 669
        },
        "id": "vOdHtwUy6QsB",
        "outputId": "4973f0fa-e783-474b-9d7f-9bde25b4bca2"
      },
      "outputs": [
        {
          "output_type": "stream",
          "name": "stdout",
          "text": [
            "Collecting gensim\n",
            "  Downloading gensim-4.3.3-cp312-cp312-manylinux_2_17_x86_64.manylinux2014_x86_64.whl.metadata (8.1 kB)\n",
            "Collecting numpy<2.0,>=1.18.5 (from gensim)\n",
            "  Downloading numpy-1.26.4-cp312-cp312-manylinux_2_17_x86_64.manylinux2014_x86_64.whl.metadata (61 kB)\n",
            "\u001b[2K     \u001b[90m━━━━━━━━━━━━━━━━━━━━━━━━━━━━━━━━━━━━━━━━\u001b[0m \u001b[32m61.0/61.0 kB\u001b[0m \u001b[31m4.0 MB/s\u001b[0m eta \u001b[36m0:00:00\u001b[0m\n",
            "\u001b[?25hCollecting scipy<1.14.0,>=1.7.0 (from gensim)\n",
            "  Downloading scipy-1.13.1-cp312-cp312-manylinux_2_17_x86_64.manylinux2014_x86_64.whl.metadata (60 kB)\n",
            "\u001b[2K     \u001b[90m━━━━━━━━━━━━━━━━━━━━━━━━━━━━━━━━━━━━━━━━\u001b[0m \u001b[32m60.6/60.6 kB\u001b[0m \u001b[31m2.6 MB/s\u001b[0m eta \u001b[36m0:00:00\u001b[0m\n",
            "\u001b[?25hRequirement already satisfied: smart-open>=1.8.1 in /usr/local/lib/python3.12/dist-packages (from gensim) (7.3.0.post1)\n",
            "Requirement already satisfied: wrapt in /usr/local/lib/python3.12/dist-packages (from smart-open>=1.8.1->gensim) (1.17.3)\n",
            "Downloading gensim-4.3.3-cp312-cp312-manylinux_2_17_x86_64.manylinux2014_x86_64.whl (26.6 MB)\n",
            "\u001b[2K   \u001b[90m━━━━━━━━━━━━━━━━━━━━━━━━━━━━━━━━━━━━━━━━\u001b[0m \u001b[32m26.6/26.6 MB\u001b[0m \u001b[31m18.4 MB/s\u001b[0m eta \u001b[36m0:00:00\u001b[0m\n",
            "\u001b[?25hDownloading numpy-1.26.4-cp312-cp312-manylinux_2_17_x86_64.manylinux2014_x86_64.whl (18.0 MB)\n",
            "\u001b[2K   \u001b[90m━━━━━━━━━━━━━━━━━━━━━━━━━━━━━━━━━━━━━━━━\u001b[0m \u001b[32m18.0/18.0 MB\u001b[0m \u001b[31m32.3 MB/s\u001b[0m eta \u001b[36m0:00:00\u001b[0m\n",
            "\u001b[?25hDownloading scipy-1.13.1-cp312-cp312-manylinux_2_17_x86_64.manylinux2014_x86_64.whl (38.2 MB)\n",
            "\u001b[2K   \u001b[90m━━━━━━━━━━━━━━━━━━━━━━━━━━━━━━━━━━━━━━━━\u001b[0m \u001b[32m38.2/38.2 MB\u001b[0m \u001b[31m10.8 MB/s\u001b[0m eta \u001b[36m0:00:00\u001b[0m\n",
            "\u001b[?25hInstalling collected packages: numpy, scipy, gensim\n",
            "  Attempting uninstall: numpy\n",
            "    Found existing installation: numpy 2.0.2\n",
            "    Uninstalling numpy-2.0.2:\n",
            "      Successfully uninstalled numpy-2.0.2\n",
            "  Attempting uninstall: scipy\n",
            "    Found existing installation: scipy 1.16.1\n",
            "    Uninstalling scipy-1.16.1:\n",
            "      Successfully uninstalled scipy-1.16.1\n",
            "\u001b[31mERROR: pip's dependency resolver does not currently take into account all the packages that are installed. This behaviour is the source of the following dependency conflicts.\n",
            "opencv-python 4.12.0.88 requires numpy<2.3.0,>=2; python_version >= \"3.9\", but you have numpy 1.26.4 which is incompatible.\n",
            "opencv-contrib-python 4.12.0.88 requires numpy<2.3.0,>=2; python_version >= \"3.9\", but you have numpy 1.26.4 which is incompatible.\n",
            "thinc 8.3.6 requires numpy<3.0.0,>=2.0.0, but you have numpy 1.26.4 which is incompatible.\n",
            "opencv-python-headless 4.12.0.88 requires numpy<2.3.0,>=2; python_version >= \"3.9\", but you have numpy 1.26.4 which is incompatible.\n",
            "tsfresh 0.21.0 requires scipy>=1.14.0; python_version >= \"3.10\", but you have scipy 1.13.1 which is incompatible.\u001b[0m\u001b[31m\n",
            "\u001b[0mSuccessfully installed gensim-4.3.3 numpy-1.26.4 scipy-1.13.1\n"
          ]
        },
        {
          "output_type": "display_data",
          "data": {
            "application/vnd.colab-display-data+json": {
              "pip_warning": {
                "packages": [
                  "numpy"
                ]
              },
              "id": "2df914dc83754df68e596700a60a1a80"
            }
          },
          "metadata": {}
        }
      ],
      "source": [
        "%pip install gensim"
      ]
    },
    {
      "cell_type": "markdown",
      "source": [
        "##Importing Required Libraries"
      ],
      "metadata": {
        "id": "h6PaJ1Ri7lsb"
      }
    },
    {
      "cell_type": "code",
      "source": [
        "import argparse\n",
        "import os\n",
        "import re\n",
        "import warnings\n",
        "from dataclasses import dataclass\n",
        "from typing import List, Tuple\n",
        "\n",
        "import matplotlib.pyplot as plt\n",
        "import numpy as np\n",
        "import pandas as pd\n",
        "import seaborn as sns\n",
        "\n",
        "import nltk\n",
        "from nltk.corpus import stopwords, wordnet\n",
        "from nltk.stem import PorterStemmer, WordNetLemmatizer\n",
        "\n",
        "from sklearn.feature_extraction.text import CountVectorizer, TfidfVectorizer\n",
        "\n",
        "from sklearn.ensemble import RandomForestClassifier, GradientBoostingClassifier, AdaBoostClassifier\n",
        "from sklearn.naive_bayes import MultinomialNB\n",
        "\n",
        "from sklearn.metrics import classification_report, confusion_matrix, f1_score\n",
        "from sklearn.model_selection import train_test_split"
      ],
      "metadata": {
        "id": "I9Hen0tm6R50"
      },
      "execution_count": 1,
      "outputs": []
    },
    {
      "cell_type": "markdown",
      "source": [
        "##Defining Neccessary Class and Functions"
      ],
      "metadata": {
        "id": "xXEaLPSv7klk"
      }
    },
    {
      "cell_type": "code",
      "source": [
        "@dataclass\n",
        "class ModelResult:\n",
        "    label: str\n",
        "    macro_f1: float\n",
        "    estimator: object\n",
        "    X_test: pd.DataFrame\n",
        "    y_test: pd.Series\n",
        "    y_pred: np.ndarray\n",
        "\n",
        "\n",
        "def _ensure_nltk():\n",
        "    try:\n",
        "        _ = stopwords.words(\"english\")\n",
        "    except LookupError:\n",
        "        nltk.download(\"stopwords\")\n",
        "    try:\n",
        "        _ = wordnet.synsets(\"dog\")\n",
        "    except LookupError:\n",
        "        nltk.download(\"wordnet\")\n",
        "        nltk.download(\"omw-1.4\")\n",
        "\n",
        "def strip_non_alnum(text: str) -> str:\n",
        "    return re.sub(r\"[^A-Za-z0-9]+\", \" \", text or \" \").strip()\n",
        "\n",
        "def remove_stop_words(text: str, stopset: set) -> str:\n",
        "    tokens = (text or \"\").split()\n",
        "    return \" \".join([t for t in tokens if t.lower() not in stopset])\n",
        "\n",
        "def stem_with_porter(text: str, stemmer: PorterStemmer) -> str:\n",
        "    tokens = (text or \"\").split()\n",
        "    return \" \".join([stemmer.stem(t) for t in tokens])\n",
        "\n",
        "def _wordnet_pos_from_tag(tag: str) -> str:\n",
        "    if tag.startswith(\"J\"):\n",
        "        return wordnet.ADJ\n",
        "    if tag.startswith(\"V\"):\n",
        "        return wordnet.VERB\n",
        "    if tag.startswith(\"R\"):\n",
        "            return wordnet.ADV\n",
        "    return wordnet.NOUN\n",
        "\n",
        "def lemmatize_simple(text: str, lemmatizer: WordNetLemmatizer) -> str:\n",
        "    tokens = (text or \"\").split()\n",
        "    return \" \".join([lemmatizer.lemmatize(t) for t in tokens])\n",
        "\n",
        "def basic_clean_pipeline(series: pd.Series) -> pd.Series:\n",
        "    _ensure_nltk()\n",
        "    eng_stops = set(stopwords.words(\"english\"))\n",
        "    stemmer = PorterStemmer()\n",
        "    lemm = WordNetLemmatizer()\n",
        "    s = series.astype(str).str.lower().map(strip_non_alnum)\n",
        "    s = s.map(lambda t: remove_stop_words(t, eng_stops))\n",
        "    s = s.map(lambda t: stem_with_porter(t, stemmer))\n",
        "    s = s.map(lambda t: lemmatize_simple(t, lemm))\n",
        "    return s\n",
        "\n",
        "\n",
        "\n",
        "def make_features_bow(corpus: pd.Series, max_features: int = 1000) -> pd.DataFrame:\n",
        "    vec = CountVectorizer(max_features=max_features)\n",
        "    feats = vec.fit_transform(corpus)\n",
        "    return pd.DataFrame(feats.toarray(), columns=vec.get_feature_names_out())\n",
        "\n",
        "def make_features_tfidf(corpus: pd.Series, max_features: int = 1000) -> pd.DataFrame:\n",
        "    vec = TfidfVectorizer(max_features=max_features)\n",
        "    feats = vec.fit_transform(corpus)\n",
        "    return pd.DataFrame(feats.toarray(), columns=vec.get_feature_names_out())\n",
        "\n",
        "def make_features_ngrams(corpus: pd.Series, max_features: int = 1000, ngram_range=(1, 2)) -> pd.DataFrame:\n",
        "    vec = CountVectorizer(max_features=max_features, ngram_range=ngram_range)\n",
        "    feats = vec.fit_transform(corpus)\n",
        "    return pd.DataFrame(feats.toarray(), columns=vec.get_feature_names_out())\n",
        "\n",
        "def evaluate_on_splits(X: pd.DataFrame, y: pd.Series, name: str, random_state: int = 100) -> List[ModelResult]:\n",
        "    X_train, X_test, y_train, y_test = train_test_split(X, y, test_size=0.2, random_state=random_state)\n",
        "    models = [\n",
        "        (\"RandomForest\", RandomForestClassifier(random_state=random_state)),\n",
        "        (\"NaiveBayes\", MultinomialNB()),\n",
        "        (\"GradientBoost\", GradientBoostingClassifier(random_state=random_state)),\n",
        "        (\"AdaBoost\", AdaBoostClassifier()),\n",
        "    ]\n",
        "    out: List[ModelResult] = []\n",
        "    for label, clf in models:\n",
        "        clf.fit(X_train, y_train)\n",
        "        preds = clf.predict(X_test)\n",
        "        score = f1_score(y_test, preds, average=\"macro\")\n",
        "        out.append(ModelResult(f\"{label} - {name}\", score, clf, X_test, y_test, preds))\n",
        "    return out\n",
        "\n",
        "def display_confusion(result: ModelResult):\n",
        "    cm = confusion_matrix(result.y_test, result.y_pred, labels=np.unique(result.y_test))\n",
        "    plt.figure(figsize=(6, 5))\n",
        "    sns.heatmap(cm, annot=True, fmt=\"d\", cmap=\"Blues\",\n",
        "                xticklabels=np.unique(result.y_test),\n",
        "                yticklabels=np.unique(result.y_test))\n",
        "    plt.title(f\"Confusion Matrix: {result.label}\")\n",
        "    plt.xlabel(\"Predicted\")\n",
        "    plt.ylabel(\"Actual\")\n",
        "    plt.tight_layout()\n",
        "    plt.show()\n",
        "\n",
        "def miniProject1():\n",
        "    warnings.filterwarnings(\"ignore\")\n",
        "    parser = argparse.ArgumentParser(description=\"Sentiment classification pipeline\")\n",
        "    parser.add_argument(\n",
        "        \"--csv\",\n",
        "        type=str,\n",
        "        default=os.environ.get(\n",
        "            \"REVIEWS_CSV\",\n",
        "            \"Product_Reviews.csv\",\n",
        "        ),\n",
        "        help=\"Path to Product_Reviews.csv\",\n",
        "    )\n",
        "    args, unknown = parser.parse_known_args()\n",
        "    if not os.path.exists(args.csv):\n",
        "        raise FileNotFoundError(\n",
        "            f\"Could not find data file at: {args.csv}. \"\n",
        "            f\"Provide --csv path to Product_Reviews.csv\"\n",
        "        )\n",
        "    df = pd.read_csv(args.csv)\n",
        "    if \"Product Review\" not in df.columns or \"Sentiment\" not in df.columns:\n",
        "        raise ValueError(\"Input CSV must include 'Product Review' and 'Sentiment' columns\")\n",
        "    df[\"clean_text\"] = basic_clean_pipeline(df[\"Product Review\"])\n",
        "    bow = make_features_bow(df[\"clean_text\"], max_features=1000)\n",
        "    tfidf = make_features_tfidf(df[\"clean_text\"], max_features=1000)\n",
        "    ngram = make_features_ngrams(df[\"clean_text\"], max_features=1000, ngram_range=(1, 2))\n",
        "    y = df[\"Sentiment\"]\n",
        "    all_results: List[ModelResult] = []\n",
        "    for label, X in [(\"BoW\", bow), (\"TF-IDF\", tfidf), (\"N-gram\", ngram)]:\n",
        "        all_results.extend(evaluate_on_splits(X, y, label, random_state=100))\n",
        "    all_results.sort(key=lambda r: r.macro_f1, reverse=True)\n",
        "    print(\"\\nModel Performance (Macro F1):\\n\")\n",
        "    for r in all_results:\n",
        "        print(f\"{r.label:28s} : {r.macro_f1:.4f}\")\n",
        "    best = all_results[0]\n",
        "    print(f\"\\nBest Model: {best.label} (Macro F1 = {best.macro_f1:.4f})\\n\")\n",
        "    print(\"Classification Report:\\n\")\n",
        "    print(classification_report(best.y_test, best.y_pred))\n",
        "    display_confusion(best)\n"
      ],
      "metadata": {
        "id": "7jyFuvq96Te4"
      },
      "execution_count": 5,
      "outputs": []
    },
    {
      "cell_type": "markdown",
      "source": [
        "## Installing NLTK Data"
      ],
      "metadata": {
        "id": "KGqK65wM8N5R"
      }
    },
    {
      "cell_type": "code",
      "source": [
        "_ensure_nltk()"
      ],
      "metadata": {
        "id": "6ir7WrG57AjM"
      },
      "execution_count": 10,
      "outputs": []
    },
    {
      "cell_type": "markdown",
      "source": [
        "##Evaluating Model Performance (Macro F1) and Plotting Confusion Matrix"
      ],
      "metadata": {
        "id": "CZJav-v_8Tz4"
      }
    },
    {
      "cell_type": "code",
      "source": [
        "miniProject1()"
      ],
      "metadata": {
        "colab": {
          "base_uri": "https://localhost:8080/",
          "height": 1000
        },
        "id": "mRuQIaNz6yUU",
        "outputId": "a0b273ee-1aa5-425b-93e2-41be0f5e391b"
      },
      "execution_count": 9,
      "outputs": [
        {
          "output_type": "stream",
          "name": "stdout",
          "text": [
            "\n",
            "Model Performance (Macro F1):\n",
            "\n",
            "NaiveBayes - BoW             : 0.5678\n",
            "GradientBoost - N-gram       : 0.5271\n",
            "NaiveBayes - N-gram          : 0.5042\n",
            "RandomForest - TF-IDF        : 0.4979\n",
            "RandomForest - N-gram        : 0.4979\n",
            "RandomForest - BoW           : 0.4647\n",
            "GradientBoost - BoW          : 0.4456\n",
            "AdaBoost - TF-IDF            : 0.4233\n",
            "GradientBoost - TF-IDF       : 0.4145\n",
            "NaiveBayes - TF-IDF          : 0.3339\n",
            "AdaBoost - BoW               : 0.2987\n",
            "AdaBoost - N-gram            : 0.2987\n",
            "\n",
            "Best Model: NaiveBayes - BoW (Macro F1 = 0.5678)\n",
            "\n",
            "Classification Report:\n",
            "\n",
            "              precision    recall  f1-score   support\n",
            "\n",
            "    NEGATIVE       0.60      0.50      0.55        18\n",
            "     NEUTRAL       0.26      0.26      0.26        19\n",
            "    POSITIVE       0.89      0.90      0.89       165\n",
            "\n",
            "    accuracy                           0.81       202\n",
            "   macro avg       0.58      0.56      0.57       202\n",
            "weighted avg       0.80      0.81      0.80       202\n",
            "\n"
          ]
        },
        {
          "output_type": "display_data",
          "data": {
            "text/plain": [
              "<Figure size 600x500 with 2 Axes>"
            ],
            "image/png": "[encoded data removed]"
          },
          "metadata": {}
        }
      ]
    },
    {
      "cell_type": "code",
      "source": [],
      "metadata": {
        "id": "BDaaIgEj61fp"
      },
      "execution_count": null,
      "outputs": []
    }
  ]
}